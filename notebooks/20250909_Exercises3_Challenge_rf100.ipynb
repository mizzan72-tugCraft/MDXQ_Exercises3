{
 "cells": [
  {
   "cell_type": "code",
   "execution_count": null,
   "id": "5711f009-1715-4866-a5a0-f85f80540d33",
   "metadata": {},
   "outputs": [],
   "source": [
    "# =============================================================================\n",
    "# 小売業需要予測モデル - 改善記録\n",
    "# =============================================================================\n",
    "# \n",
    "# 【実施した施策】\n",
    "# - 線形回帰モデルからRandomForestRegressorに変更\n",
    "# - n_estimators=100, random_state=42で設定\n",
    "# \n",
    "# 【スコア】\n",
    "# - ベースライン（線形回帰）: 3.9937572546850784\n",
    "# - 今回の結果: [提出後に記録]\n",
    "# \n",
    "# 【考察】\n",
    "# - [提出後に記録]\n",
    "# \n",
    "# 【今後の改善案】\n",
    "# - ハイパーパラメータの調整（n_estimators, max_depth等）\n",
    "# - 特徴量エンジニアリング（ラグ特徴量、統計特徴量等）\n",
    "# - 他のモデルの試行（XGBoost, LightGBM等）\n",
    "# \n",
    "# =============================================================================\n",
    "\n",
    "import pandas as pd\n",
    "import numpy as np\n",
    "import matplotlib.pyplot as plt\n",
    "import seaborn as sns\n",
    "from sklearn.linear_model import LinearRegression\n",
    "from sklearn.ensemble import RandomForestRegressor\n",
    "from sklearn.metrics import mean_squared_error\n",
    "import os"
   ]
  },
  {
   "cell_type": "code",
   "execution_count": null,
   "id": "915e405f-bfda-4df4-944b-a190de5f684f",
   "metadata": {},
   "outputs": [],
   "source": [
    "base_dir = '../data/'\n",
    "sales_df = pd.read_csv(base_dir + 'sales_history.csv')\n",
    "item_categories_df = pd.read_csv(base_dir + 'item_categories.csv')\n",
    "category_names_df = pd.read_csv(base_dir + 'category_names.csv')\n",
    "test_df = pd.read_csv(base_dir + 'test.csv')\n",
    "submission_df = pd.read_csv(base_dir + 'sample_submission.csv', header=None)"
   ]
  },
  {
   "cell_type": "code",
   "execution_count": 13,
   "id": "bdcd8e22-9088-49b3-b8fe-ebd293471643",
   "metadata": {},
   "outputs": [],
   "source": [
    "# 日付から年と月を抽出\n",
    "sales_df['年'] = sales_df['日付'].apply(lambda x: x.split('-')[0])\n",
    "sales_df['月'] = sales_df['日付'].apply(lambda x: x.split('-')[1])\n",
    "\n",
    "# 月ごとの売上個数を集計\n",
    "sales_month_df = sales_df.groupby(['商品ID', '店舗ID', '年', '月'])['売上個数'].sum().reset_index()\n",
    "\n",
    "# 商品カテゴリIDを結合\n",
    "train_df = pd.merge(sales_month_df, item_categories_df, on='商品ID', how='left')\n",
    "\n",
    "# データ型を変換\n",
    "train_df['年'] = train_df['年'].astype(int)\n",
    "train_df['月'] = train_df['月'].astype(int)\n",
    "\n",
    "# test_dfにも年と月を追加し、商品カテゴリIDを結合\n",
    "test_df['年'] = 2022\n",
    "test_df['月'] = 12\n",
    "test_df = pd.merge(test_df, item_categories_df, on='商品ID', how='left')\n",
    "\n",
    "# 特徴量とターゲット変数を定義\n",
    "feature_columns = ['店舗ID', '商品ID', '年', '月', '商品カテゴリID']\n",
    "target_column = '売上個数'\n",
    "\n",
    "# 学習データとテストデータに分割\n",
    "X_train = train_df[feature_columns]\n",
    "y_train = train_df[target_column]\n",
    "X_test = test_df[feature_columns]"
   ]
  },
  {
   "cell_type": "code",
   "execution_count": 14,
   "id": "60c70619-d9f3-4a77-81ef-cef31033ecbc",
   "metadata": {},
   "outputs": [
    {
     "name": "stdout",
     "output_type": "stream",
     "text": [
      "モデルの学習が完了しました\n",
      "予測結果の形状: (3060,)\n",
      "予測値の範囲: 0.69 ～ 41.32\n"
     ]
    }
   ],
   "source": [
    "# モデルの定義と学習（RandomForestRegressorを使用）\n",
    "model = RandomForestRegressor(n_estimators=100, random_state=42)\n",
    "model.fit(X_train, y_train)\n",
    "\n",
    "# 予測\n",
    "y_pred = model.predict(X_test)\n",
    "\n",
    "# 予測結果に負の値があれば0に変換\n",
    "y_pred[y_pred < 0] = 0\n",
    "\n",
    "print(\"モデルの学習が完了しました\")\n",
    "print(f\"予測結果の形状: {y_pred.shape}\")\n",
    "print(f\"予測値の範囲: {y_pred.min():.2f} ～ {y_pred.max():.2f}\")"
   ]
  },
  {
   "cell_type": "code",
   "execution_count": null,
   "id": "74b7bde2-ca36-4030-8ac1-f7e03fdf8e2a",
   "metadata": {},
   "outputs": [
    {
     "name": "stdout",
     "output_type": "stream",
     "text": [
      "\n",
      "提出用ファイル 'my_submission_rf.csv' が作成されました。\n",
      "このファイルをコンペティションサイトに提出してください。\n"
     ]
    }
   ],
   "source": [
    "# submission_df の 1 列に予測結果 (y_pred) を代入\n",
    "submission_df[1] = y_pred\n",
    "\n",
    "# 現在の日時を取得してタイムスタンプ付きファイル名を作成\n",
    "import datetime\n",
    "now = datetime.datetime.now()\n",
    "timestamp = now.strftime(\"%Y%m%d-%H%M%S\")\n",
    "\n",
    "# 提出用ファイル名（改善内容とタイムスタンプ付き）\n",
    "submission_file_name = f'../submissions/20250909_Exercises3_Challenge_rf100_{timestamp}.csv'\n",
    "\n",
    "# 提出用データフレームをCSVファイルとして出力\n",
    "submission_df.to_csv(submission_file_name, index=False, header=False)\n",
    "\n",
    "print(f\"\\n提出用ファイル '{submission_file_name}' が作成されました。\")\n",
    "print(\"このファイルをコンペティションサイトに提出してください。\")"
   ]
  },
  {
   "cell_type": "code",
   "execution_count": null,
   "id": "7f068262",
   "metadata": {},
   "outputs": [],
   "source": [
    "# =============================================================================\n",
    "# スコア記録・分析セル\n",
    "# =============================================================================\n",
    "# 提出後にスコアを記録してください\n",
    "\n",
    "# スコア記録・分析ライブラリをインポート\n",
    "from score_analysis import record_score, compare_scores, generate_improvement_summary\n",
    "\n",
    "# スコア記録（提出後に値を入力）\n",
    "current_score = None  # 提出後にスコアを入力\n",
    "model_name = \"RandomForestRegressor (n_estimators=100)\"\n",
    "features_used = \"店舗ID, 商品ID, 年, 月, 商品カテゴリID\"\n",
    "notes = \"線形回帰からRandomForestに変更\"\n",
    "\n",
    "if current_score is not None:\n",
    "    # スコアを記録・分析\n",
    "    result = record_score(\n",
    "        current_score=current_score,\n",
    "        model_name=model_name,\n",
    "        features_used=features_used,\n",
    "        notes=notes\n",
    "    )\n",
    "else:\n",
    "    print(\"スコアを記録してください。\")\n",
    "    print(\"例: current_score = 3.500000\")\n",
    "    print(\"その後、このセルを再実行してください。\")\n"
   ]
  },
  {
   "cell_type": "code",
   "execution_count": null,
   "id": "7e003715-e773-4f74-9f66-4bc55f2188f8",
   "metadata": {},
   "outputs": [],
   "source": []
  }
 ],
 "metadata": {
  "kernelspec": {
   "display_name": "Python 3 (ipykernel)",
   "language": "python",
   "name": "python3"
  },
  "language_info": {
   "codemirror_mode": {
    "name": "ipython",
    "version": 3
   },
   "file_extension": ".py",
   "mimetype": "text/x-python",
   "name": "python",
   "nbconvert_exporter": "python",
   "pygments_lexer": "ipython3",
   "version": "3.9.6"
  }
 },
 "nbformat": 4,
 "nbformat_minor": 5
}
